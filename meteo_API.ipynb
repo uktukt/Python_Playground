{
 "cells": [
  {
   "cell_type": "markdown",
   "metadata": {},
   "source": [
    "About: [https://api.meteo.lt/](https://api.meteo.lt/)"
   ]
  },
  {
   "cell_type": "code",
   "execution_count": 1,
   "metadata": {},
   "outputs": [],
   "source": [
    "import requests\n",
    "import json\n",
    "import pandas as pd\n",
    "from datetime import datetime, timedelta\n",
    "import time"
   ]
  },
  {
   "cell_type": "markdown",
   "metadata": {},
   "source": [
    "Station observation data"
   ]
  },
  {
   "cell_type": "code",
   "execution_count": 25,
   "metadata": {},
   "outputs": [
    {
     "name": "stdout",
     "output_type": "stream",
     "text": [
      "{\n",
      "  \"observationTimeUtc\": \"2023-01-01 00:00:00\",\n",
      "  \"airTemperature\": 7.7,\n",
      "  \"feelsLikeTemperature\": 7.7,\n",
      "  \"windSpeed\": 3.9,\n",
      "  \"windGust\": 6.6,\n",
      "  \"windDirection\": 194,\n",
      "  \"cloudCover\": 88,\n",
      "  \"seaLevelPressure\": 1008.1,\n",
      "  \"relativeHumidity\": 98,\n",
      "  \"precipitation\": 0,\n",
      "  \"conditionCode\": \"light-rain\"\n",
      "}\n"
     ]
    }
   ],
   "source": [
    "vilnius_response = requests.get(url='https://api.meteo.lt/v1/stations/vilniaus-ams/observations/2023-01-01')\n",
    "vilnius_data = vilnius_response.json()\n",
    "print(json.dumps(vilnius_data['observations'][0], indent=2))"
   ]
  },
  {
   "cell_type": "markdown",
   "metadata": {},
   "source": [
    "Station codes"
   ]
  },
  {
   "cell_type": "code",
   "execution_count": 2,
   "metadata": {},
   "outputs": [
    {
     "name": "stdout",
     "output_type": "stream",
     "text": [
      "['birzu-ams', 'dotnuvos-ams', 'duksto-ams', 'kauno-ams', 'klaipedos-ams', 'kybartu-ams', 'laukuvos-ams', 'lazdiju-ams', 'nidos-ams', 'panevezio-ams', 'raseiniu-ams', 'siauliu-ams', 'silutes-ams', 'telsiu-ams', 'ukmerges-ams', 'utenos-ams', 'varenos-ams', 'vilniaus-ams']\n"
     ]
    }
   ],
   "source": [
    "response = requests.get(url='https://api.meteo.lt/v1/stations')\n",
    "data = response.json()\n",
    "\n",
    "# Extract station codes\n",
    "station_codes = [station['code'] for station in data]\n",
    "\n",
    "print(station_codes)"
   ]
  },
  {
   "cell_type": "markdown",
   "metadata": {},
   "source": [
    "Fetching temperature data from meteo.lt API"
   ]
  },
  {
   "cell_type": "code",
   "execution_count": 3,
   "metadata": {},
   "outputs": [
    {
     "name": "stdout",
     "output_type": "stream",
     "text": [
      "Data saved to temperature_data_20230101_20230131.csv\n"
     ]
    }
   ],
   "source": [
    "# set the start and end dates for data retrieval\n",
    "start_date = datetime(2023, 1, 1)\n",
    "end_date = datetime(2023, 1, 31)\n",
    "\n",
    "rate_limit = 160\n",
    "delay_between_requests = 60 / rate_limit\n",
    "\n",
    "station_codes = station_codes\n",
    "\n",
    "url_template = 'https://api.meteo.lt/v1/stations/{station}/observations/{date}'\n",
    "\n",
    "data_frames = []\n",
    "\n",
    "current_date = start_date\n",
    "while current_date <= end_date:\n",
    "    formatted_date = current_date.strftime('%Y-%m-%d')\n",
    "    \n",
    "    data_list = []\n",
    "\n",
    "    for station in station_codes:\n",
    "        url = url_template.format(station=station, date=formatted_date, timeout=6000)\n",
    "        \n",
    "        response = requests.get(url)\n",
    "        station_data = response.json()\n",
    "\n",
    "        try:\n",
    "            observations = station_data['observations']\n",
    "            for observation in observations:\n",
    "                observation_time_utc = observation['observationTimeUtc']\n",
    "                temperature = observation['airTemperature']\n",
    "\n",
    "                data_list.append({'Date': formatted_date, 'Station': station, \n",
    "                                  'Observation Time (UTC)': observation_time_utc,\n",
    "                                  'Temperature (C)': temperature})\n",
    "        except KeyError:\n",
    "            print(f\"No observations for {formatted_date} at station {station}\")\n",
    "\n",
    "        time.sleep(delay_between_requests)\n",
    "\n",
    "    day_data = pd.DataFrame(data_list)\n",
    "    data_frames.append(day_data)\n",
    "\n",
    "    current_date += timedelta(days=1)\n",
    "\n",
    "all_data = pd.concat(data_frames, ignore_index=True)\n",
    "\n",
    "# Save the collected temperature data to a csv file\n",
    "\n",
    "file_name = f'temperature_data_{start_date.strftime(\"%Y%m%d\")}_{end_date.strftime(\"%Y%m%d\")}.csv'\n",
    "\n",
    "all_data.to_csv(file_name, index=False)\n",
    "\n",
    "print(f'Data saved to {file_name}')"
   ]
  },
  {
   "cell_type": "markdown",
   "metadata": {},
   "source": [
    "Dataframe summary and information"
   ]
  },
  {
   "cell_type": "code",
   "execution_count": 4,
   "metadata": {},
   "outputs": [
    {
     "name": "stdout",
     "output_type": "stream",
     "text": [
      "shape of dataframe: (13392, 4), \n",
      "\n",
      "null&NaN counts:\n",
      "Date                      0\n",
      "Station                   0\n",
      "Observation Time (UTC)    0\n",
      "Temperature (C)           0\n",
      "dtype: int64 \n",
      "\n",
      "first and last rows:\n",
      "              Date       Station Observation Time (UTC)  Temperature (C)\n",
      "0      2023-01-01     birzu-ams    2023-01-01 00:00:00              8.7\n",
      "1      2023-01-01     birzu-ams    2023-01-01 01:00:00              9.3\n",
      "2      2023-01-01     birzu-ams    2023-01-01 02:00:00              9.6\n",
      "3      2023-01-01     birzu-ams    2023-01-01 03:00:00              9.8\n",
      "4      2023-01-01     birzu-ams    2023-01-01 04:00:00             10.1\n",
      "...           ...           ...                    ...              ...\n",
      "13387  2023-01-31  vilniaus-ams    2023-01-31 19:00:00              0.0\n",
      "13388  2023-01-31  vilniaus-ams    2023-01-31 20:00:00             -0.4\n",
      "13389  2023-01-31  vilniaus-ams    2023-01-31 21:00:00             -0.6\n",
      "13390  2023-01-31  vilniaus-ams    2023-01-31 22:00:00             -0.5\n",
      "13391  2023-01-31  vilniaus-ams    2023-01-31 23:00:00             -1.3\n",
      "\n",
      "[13392 rows x 4 columns]\n"
     ]
    }
   ],
   "source": [
    "print(f'shape of dataframe: {all_data.shape}, \\n\\nnull&NaN counts:\\n{all_data.isna().sum()} \\n\\nfirst and last rows:\\n {all_data}')"
   ]
  },
  {
   "cell_type": "markdown",
   "metadata": {},
   "source": [
    "Converting time and calculating average temperatur"
   ]
  },
  {
   "cell_type": "code",
   "execution_count": 5,
   "metadata": {},
   "outputs": [
    {
     "name": "stdout",
     "output_type": "stream",
     "text": [
      "           Date        Station  Temperature (C)\n",
      "0    2023-01-01      birzu-ams         8.758333\n",
      "1    2023-01-01   dotnuvos-ams        10.250000\n",
      "2    2023-01-01     duksto-ams         8.933333\n",
      "3    2023-01-01      kauno-ams        11.362500\n",
      "4    2023-01-01  klaipedos-ams         7.200000\n",
      "..          ...            ...              ...\n",
      "553  2023-01-31     telsiu-ams         1.245833\n",
      "554  2023-01-31   ukmerges-ams         1.395833\n",
      "555  2023-01-31     utenos-ams         1.133333\n",
      "556  2023-01-31    varenos-ams         1.304167\n",
      "557  2023-01-31   vilniaus-ams         0.808333\n",
      "\n",
      "[558 rows x 3 columns]\n"
     ]
    }
   ],
   "source": [
    "all_data['Observation Time (UTC)'] = pd.to_datetime(all_data['Observation Time (UTC)'])\n",
    "\n",
    "avg_temp_per_day_per_station = all_data.groupby(['Date', 'Station'])['Temperature (C)'].mean().reset_index()\n",
    "\n",
    "print(avg_temp_per_day_per_station)"
   ]
  },
  {
   "cell_type": "code",
   "execution_count": 11,
   "metadata": {},
   "outputs": [
    {
     "name": "stdout",
     "output_type": "stream",
     "text": [
      "          Date  Temperature (C)\n",
      "0   2023-01-01         9.967824\n",
      "1   2023-01-02         6.658102\n",
      "2   2023-01-03         4.427315\n",
      "3   2023-01-04         0.704861\n",
      "4   2023-01-05        -0.907407\n",
      "5   2023-01-06       -11.771991\n",
      "6   2023-01-07        -9.221528\n",
      "7   2023-01-08        -3.150926\n",
      "8   2023-01-09        -1.322685\n",
      "9   2023-01-10         1.238657\n",
      "10  2023-01-11         0.332176\n",
      "11  2023-01-12         2.620370\n",
      "12  2023-01-13         4.544907\n",
      "13  2023-01-14         4.621759\n",
      "14  2023-01-15         3.669676\n",
      "15  2023-01-16         2.640046\n",
      "16  2023-01-17         2.100000\n",
      "17  2023-01-18         1.528241\n",
      "18  2023-01-19         0.566667\n",
      "19  2023-01-20        -0.924074\n",
      "20  2023-01-21        -0.741204\n",
      "21  2023-01-22        -1.314815\n",
      "22  2023-01-23        -1.917130\n",
      "23  2023-01-24        -2.174769\n",
      "24  2023-01-25        -0.694907\n",
      "25  2023-01-26        -1.203009\n",
      "26  2023-01-27        -0.644213\n",
      "27  2023-01-28        -1.733102\n",
      "28  2023-01-29         0.259722\n",
      "29  2023-01-30         1.296991\n",
      "30  2023-01-31         1.581019\n"
     ]
    }
   ],
   "source": [
    "avg_temp_per_day_LT = avg_temp_per_day_per_station.groupby(['Date'])['Temperature (C)'].mean().reset_index()\n",
    "\n",
    "print(avg_temp_per_day_LT)"
   ]
  },
  {
   "cell_type": "markdown",
   "metadata": {},
   "source": [
    "Saving aggregated data"
   ]
  },
  {
   "cell_type": "code",
   "execution_count": 14,
   "metadata": {},
   "outputs": [
    {
     "name": "stdout",
     "output_type": "stream",
     "text": [
      "Data saved to avg_temp_per_day_per_station_20230101_20230131.csv\n"
     ]
    }
   ],
   "source": [
    "agg_stations_file_name = f'avg_temp_per_day_per_station_{start_date.strftime(\"%Y%m%d\")}_{end_date.strftime(\"%Y%m%d\")}.csv'\n",
    "avg_temp_per_day_per_station.to_csv(agg_stations_file_name, index=False)\n",
    "\n",
    "print(f'Data saved to {agg_stations_file_name}')"
   ]
  },
  {
   "cell_type": "code",
   "execution_count": 15,
   "metadata": {},
   "outputs": [
    {
     "name": "stdout",
     "output_type": "stream",
     "text": [
      "Data saved to avg_temp_per_day_LT_20230101_20230131.csv\n"
     ]
    }
   ],
   "source": [
    "agg_LT_file_name = f'avg_temp_per_day_LT_{start_date.strftime(\"%Y%m%d\")}_{end_date.strftime(\"%Y%m%d\")}.csv'\n",
    "avg_temp_per_day_LT.to_csv(agg_LT_file_name, index=False)\n",
    "\n",
    "print(f'Data saved to {agg_LT_file_name}')"
   ]
  }
 ],
 "metadata": {
  "kernelspec": {
   "display_name": "Python 3",
   "language": "python",
   "name": "python3"
  },
  "language_info": {
   "codemirror_mode": {
    "name": "ipython",
    "version": 3
   },
   "file_extension": ".py",
   "mimetype": "text/x-python",
   "name": "python",
   "nbconvert_exporter": "python",
   "pygments_lexer": "ipython3",
   "version": "3.11.3"
  }
 },
 "nbformat": 4,
 "nbformat_minor": 2
}
